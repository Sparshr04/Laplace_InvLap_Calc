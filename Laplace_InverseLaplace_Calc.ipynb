{
  "nbformat": 4,
  "nbformat_minor": 0,
  "metadata": {
    "colab": {
      "provenance": []
    },
    "kernelspec": {
      "name": "python3",
      "display_name": "Python 3"
    },
    "language_info": {
      "name": "python"
    }
  },
  "cells": [
    {
      "cell_type": "code",
      "execution_count": 29,
      "metadata": {
        "id": "z_hNCW8fW6tX"
      },
      "outputs": [],
      "source": [
        "from sympy.interactive import printing\n",
        "printing.init_printing(use_latex = True)\n",
        "from sympy import *\n",
        "import sympy as sp\n",
        "from sympy.abc import x,y,s,t\n",
        "from sympy.integrals import laplace_transform, inverse_laplace_transform"
      ]
    },
    {
      "cell_type": "code",
      "source": [
        "s = sp.Symbol('s')\n",
        "Y = sp.Function('Y')(s)\n",
        "t = sp.Symbol('t')\n",
        "y = sp.Function('y')(t)"
      ],
      "metadata": {
        "id": "YDzIi2pgZfJ6"
      },
      "execution_count": 64,
      "outputs": []
    },
    {
      "cell_type": "code",
      "source": [
        "#Laplace Transform\n",
        "alpha = input('Enter the function to calculate Laplace transform: ')\n",
        "print(\"\")\n",
        "Laplace = laplace_transform(alpha, t,s)\n",
        "print(\"The Laplace Transform of\")\n",
        "display(y)\n",
        "print('')\n",
        "equation = Eq(Y, Laplace[0])\n",
        "display(equation)"
      ],
      "metadata": {
        "colab": {
          "base_uri": "https://localhost:8080/",
          "height": 146
        },
        "id": "Q2-484-fhOub",
        "outputId": "aa8bf942-1ae4-49ed-ab9c-4d9f330ebd8c"
      },
      "execution_count": 74,
      "outputs": [
        {
          "output_type": "stream",
          "name": "stdout",
          "text": [
            "Enter the function to calculate Laplace transform: 6*t*t\n",
            "\n",
            "The Laplace Transform of\n"
          ]
        },
        {
          "output_type": "display_data",
          "data": {
            "text/plain": [
              "y(t)"
            ],
            "text/latex": "$\\displaystyle y{\\left(t \\right)}$"
          },
          "metadata": {}
        },
        {
          "output_type": "stream",
          "name": "stdout",
          "text": [
            "\n"
          ]
        },
        {
          "output_type": "display_data",
          "data": {
            "text/plain": [
              "       12\n",
              "Y(s) = ──\n",
              "        3\n",
              "       s "
            ],
            "text/latex": "$\\displaystyle Y{\\left(s \\right)} = \\frac{12}{s^{3}}$"
          },
          "metadata": {}
        }
      ]
    },
    {
      "cell_type": "code",
      "source": [
        "#Inverse Laplace Transform\n",
        "beta = input(\"Enter the function to calculate Inverse Laplace transform: \")\n",
        "Inv_Laplace = inverse_laplace_transform(beta,s,t)\n",
        "print(\"The Inverse Laplace Transform of\")\n",
        "display(Y)\n",
        "print('')\n",
        "Equation = Eq(y,Inv_Laplace)\n",
        "display(Equation)"
      ],
      "metadata": {
        "colab": {
          "base_uri": "https://localhost:8080/",
          "height": 115
        },
        "id": "N6u07CK9liyq",
        "outputId": "c768b7d1-e017-45d6-fb9f-b9a4325ab971"
      },
      "execution_count": 72,
      "outputs": [
        {
          "output_type": "stream",
          "name": "stdout",
          "text": [
            "Enter the function to calculate Inverse Laplace transform: 4/s\n",
            "The Inverse Laplace Transform of\n"
          ]
        },
        {
          "output_type": "display_data",
          "data": {
            "text/plain": [
              "Y(s)"
            ],
            "text/latex": "$\\displaystyle Y{\\left(s \\right)}$"
          },
          "metadata": {}
        },
        {
          "output_type": "stream",
          "name": "stdout",
          "text": [
            "\n"
          ]
        },
        {
          "output_type": "display_data",
          "data": {
            "text/plain": [
              "y(t) = 4⋅θ(t)"
            ],
            "text/latex": "$\\displaystyle y{\\left(t \\right)} = 4 \\theta\\left(t\\right)$"
          },
          "metadata": {}
        }
      ]
    },
    {
      "cell_type": "code",
      "source": [
        "#Partial Fraction\n",
        "gamma = input(\"Enter the function to convert into Partial Fraction: \")\n",
        "Partial = sp.apart(gamma)\n",
        "display(Partial)"
      ],
      "metadata": {
        "colab": {
          "base_uri": "https://localhost:8080/",
          "height": 76
        },
        "id": "ban7f2kNphj9",
        "outputId": "e19e75ca-3117-4d3c-b7e7-19f33c6a9187"
      },
      "execution_count": 67,
      "outputs": [
        {
          "name": "stdout",
          "output_type": "stream",
          "text": [
            "Enter the function to convert into Partial Fraction: 5*(s+1)/(s+3)**2\n"
          ]
        },
        {
          "output_type": "display_data",
          "data": {
            "text/plain": [
              "  5        10   \n",
              "───── - ────────\n",
              "s + 3          2\n",
              "        (s + 3) "
            ],
            "text/latex": "$\\displaystyle \\frac{5}{s + 3} - \\frac{10}{\\left(s + 3\\right)^{2}}$"
          },
          "metadata": {}
        }
      ]
    },
    {
      "cell_type": "code",
      "source": [
        "#Polynomial Multiplication\n",
        "delta = input('Enter the polynomial to Expand: ')\n",
        "Poly = sp.expand(delta)\n",
        "display(Poly)"
      ],
      "metadata": {
        "colab": {
          "base_uri": "https://localhost:8080/",
          "height": 57
        },
        "id": "xtuRhuqsqtR8",
        "outputId": "af91457d-3cbb-4eab-fd63-b7a74c3aa7f3"
      },
      "execution_count": 71,
      "outputs": [
        {
          "name": "stdout",
          "output_type": "stream",
          "text": [
            "Enter the polynomial to Expand: (s+3)*(s-5)*(s+1)\n"
          ]
        },
        {
          "output_type": "display_data",
          "data": {
            "text/plain": [
              " 3    2            \n",
              "s  - s  - 17⋅s - 15"
            ],
            "text/latex": "$\\displaystyle s^{3} - s^{2} - 17 s - 15$"
          },
          "metadata": {}
        }
      ]
    }
  ]
}